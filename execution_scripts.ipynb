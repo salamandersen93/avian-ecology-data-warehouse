{
 "cells": [
  {
   "cell_type": "code",
   "execution_count": null,
   "id": "b4698162",
   "metadata": {},
   "outputs": [],
   "source": [
    "%run eBird_data_acquisition.py\n",
    "%run NASS_data_acquisition.py"
   ]
  },
  {
   "cell_type": "code",
   "execution_count": null,
   "id": "dea7621a",
   "metadata": {},
   "outputs": [],
   "source": [
    "%run create_tables.py"
   ]
  },
  {
   "cell_type": "code",
   "execution_count": null,
   "id": "9ebc12da",
   "metadata": {},
   "outputs": [],
   "source": [
    "%run ETL.py"
   ]
  },
  {
   "cell_type": "code",
   "execution_count": null,
   "id": "4c9c25f7",
   "metadata": {},
   "outputs": [],
   "source": []
  }
 ],
 "metadata": {
  "kernelspec": {
   "display_name": "Python 3 (ipykernel)",
   "language": "python",
   "name": "python3"
  },
  "language_info": {
   "codemirror_mode": {
    "name": "ipython",
    "version": 3
   },
   "file_extension": ".py",
   "mimetype": "text/x-python",
   "name": "python",
   "nbconvert_exporter": "python",
   "pygments_lexer": "ipython3",
   "version": "3.8.10"
  }
 },
 "nbformat": 4,
 "nbformat_minor": 5
}
